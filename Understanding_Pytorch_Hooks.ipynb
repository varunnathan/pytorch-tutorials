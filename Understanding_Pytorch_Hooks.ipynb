{
 "cells": [
  {
   "cell_type": "markdown",
   "metadata": {},
   "source": [
    "## https://www.kaggle.com/sironghuang/understanding-pytorch-hooks"
   ]
  },
  {
   "cell_type": "code",
   "execution_count": 1,
   "metadata": {},
   "outputs": [],
   "source": [
    "import numpy as np\n",
    "import torch\n",
    "import torch.nn as nn\n",
    "from torch import tensor\n",
    "from IPython.display import Image"
   ]
  },
  {
   "cell_type": "code",
   "execution_count": 2,
   "metadata": {},
   "outputs": [],
   "source": [
    "class Net(nn.Module):\n",
    "\n",
    "    def __init__(self):\n",
    "        super(Net, self).__init__()\n",
    "        self.fc1 = nn.Linear(2,2)\n",
    "        self.s1 = nn.Sigmoid()\n",
    "        self.fc2 = nn.Linear(2,2)\n",
    "        self.s2 = nn.Sigmoid()\n",
    "        self.fc1.weight = torch.nn.Parameter(torch.Tensor([[0.15,0.2],[0.250,0.30]]))\n",
    "        self.fc1.bias = torch.nn.Parameter(torch.Tensor([0.35]))\n",
    "        self.fc2.weight = torch.nn.Parameter(torch.Tensor([[0.4,0.45],[0.5,0.55]]))\n",
    "        self.fc2.bias = torch.nn.Parameter(torch.Tensor([0.6]))\n",
    "        \n",
    "    def forward(self, x):\n",
    "        x= self.fc1(x)\n",
    "        x = self.s1(x)\n",
    "        x= self.fc2(x)\n",
    "        x = self.s2(x)\n",
    "        return x"
   ]
  },
  {
   "cell_type": "code",
   "execution_count": 3,
   "metadata": {},
   "outputs": [
    {
     "name": "stdout",
     "output_type": "stream",
     "text": [
      "Net(\n",
      "  (fc1): Linear(in_features=2, out_features=2, bias=True)\n",
      "  (s1): Sigmoid()\n",
      "  (fc2): Linear(in_features=2, out_features=2, bias=True)\n",
      "  (s2): Sigmoid()\n",
      ")\n"
     ]
    }
   ],
   "source": [
    "net = Net()\n",
    "print(net)"
   ]
  },
  {
   "cell_type": "code",
   "execution_count": 4,
   "metadata": {},
   "outputs": [
    {
     "name": "stdout",
     "output_type": "stream",
     "text": [
      "[Parameter containing:\n",
      "tensor([[0.1500, 0.2000],\n",
      "        [0.2500, 0.3000]], requires_grad=True), Parameter containing:\n",
      "tensor([0.3500], requires_grad=True), Parameter containing:\n",
      "tensor([[0.4000, 0.4500],\n",
      "        [0.5000, 0.5500]], requires_grad=True), Parameter containing:\n",
      "tensor([0.6000], requires_grad=True)]\n"
     ]
    }
   ],
   "source": [
    "# parameters: weight and bias\n",
    "print(list(net.parameters()))\n",
    "# input data\n",
    "weight1 = list(net.parameters())[0]\n",
    "weight2 = list(net.parameters())[2]\n",
    "data = torch.Tensor([0.05,0.1])"
   ]
  },
  {
   "cell_type": "code",
   "execution_count": 5,
   "metadata": {},
   "outputs": [
    {
     "data": {
      "text/plain": [
       "(Parameter containing:\n",
       " tensor([[0.1500, 0.2000],\n",
       "         [0.2500, 0.3000]], requires_grad=True), Parameter containing:\n",
       " tensor([[0.4000, 0.4500],\n",
       "         [0.5000, 0.5500]], requires_grad=True))"
      ]
     },
     "execution_count": 5,
     "metadata": {},
     "output_type": "execute_result"
    }
   ],
   "source": [
    "weight1, weight2"
   ]
  },
  {
   "cell_type": "code",
   "execution_count": 6,
   "metadata": {},
   "outputs": [
    {
     "data": {
      "text/plain": [
       "torch.Size([2])"
      ]
     },
     "execution_count": 6,
     "metadata": {},
     "output_type": "execute_result"
    }
   ],
   "source": [
    "data.shape"
   ]
  },
  {
   "cell_type": "code",
   "execution_count": 7,
   "metadata": {},
   "outputs": [
    {
     "data": {
      "text/plain": [
       "tensor(0.2984, grad_fn=<MseLossBackward>)"
      ]
     },
     "execution_count": 7,
     "metadata": {},
     "output_type": "execute_result"
    }
   ],
   "source": [
    "# output of last layer\n",
    "out = net(data)\n",
    "target = torch.Tensor([0.01,0.99])  # a dummy target, for example\n",
    "criterion = nn.MSELoss()\n",
    "loss = criterion(out, target); loss"
   ]
  },
  {
   "cell_type": "code",
   "execution_count": 8,
   "metadata": {},
   "outputs": [],
   "source": [
    "# A simple hook class that returns the input and output of a\n",
    "# layer during forward/backward pass\n",
    "\n",
    "class Hook():\n",
    "    def __init__(self, module, backward=False):\n",
    "        if backward==False:\n",
    "            self.hook = module.register_forward_hook(self.hook_fn)\n",
    "        else:\n",
    "            self.hook = module.register_backward_hook(self.hook_fn)\n",
    "    def hook_fn(self, module, input, output):\n",
    "        self.input = input\n",
    "        self.output = output\n",
    "    def close(self):\n",
    "        self.hook.remove()"
   ]
  },
  {
   "cell_type": "code",
   "execution_count": 9,
   "metadata": {},
   "outputs": [
    {
     "data": {
      "text/plain": [
       "odict_items([('fc1', Linear(in_features=2, out_features=2, bias=True)), ('s1', Sigmoid()), ('fc2', Linear(in_features=2, out_features=2, bias=True)), ('s2', Sigmoid())])"
      ]
     },
     "execution_count": 9,
     "metadata": {},
     "output_type": "execute_result"
    }
   ],
   "source": [
    "net._modules.items()"
   ]
  },
  {
   "cell_type": "code",
   "execution_count": 10,
   "metadata": {},
   "outputs": [],
   "source": [
    "# register hooks on each layer\n",
    "hookF = [Hook(layer[1]) for layer in list(net._modules.items())]\n",
    "hookB = [Hook(layer[1],backward=True) for layer in\n",
    "         list(net._modules.items())]"
   ]
  },
  {
   "cell_type": "code",
   "execution_count": 11,
   "metadata": {},
   "outputs": [
    {
     "data": {
      "text/plain": [
       "[<__main__.Hook at 0x121c2e438>,\n",
       " <__main__.Hook at 0x121c2e6d8>,\n",
       " <__main__.Hook at 0x121c2e5c0>,\n",
       " <__main__.Hook at 0x121c2e668>]"
      ]
     },
     "execution_count": 11,
     "metadata": {},
     "output_type": "execute_result"
    }
   ],
   "source": [
    "hookF"
   ]
  },
  {
   "cell_type": "code",
   "execution_count": 12,
   "metadata": {},
   "outputs": [
    {
     "data": {
      "text/plain": [
       "[<__main__.Hook at 0x121c2e748>,\n",
       " <__main__.Hook at 0x121c2e7b8>,\n",
       " <__main__.Hook at 0x121c2e828>,\n",
       " <__main__.Hook at 0x121c2e898>]"
      ]
     },
     "execution_count": 12,
     "metadata": {},
     "output_type": "execute_result"
    }
   ],
   "source": [
    "hookB"
   ]
  },
  {
   "cell_type": "code",
   "execution_count": 13,
   "metadata": {},
   "outputs": [
    {
     "data": {
      "text/plain": [
       "tensor([0.0500, 0.1000])"
      ]
     },
     "execution_count": 13,
     "metadata": {},
     "output_type": "execute_result"
    }
   ],
   "source": [
    "data"
   ]
  },
  {
   "cell_type": "code",
   "execution_count": 14,
   "metadata": {},
   "outputs": [],
   "source": [
    "# run a data batch\n",
    "out=net(data)\n",
    "# backprop once to get the backward hook results\n",
    "out.backward(torch.tensor([1,1],dtype=torch.float),retain_graph=True)"
   ]
  },
  {
   "cell_type": "code",
   "execution_count": 15,
   "metadata": {},
   "outputs": [
    {
     "data": {
      "text/plain": [
       "tensor([0.7514, 0.7729], grad_fn=<SigmoidBackward>)"
      ]
     },
     "execution_count": 15,
     "metadata": {},
     "output_type": "execute_result"
    }
   ],
   "source": [
    "out"
   ]
  },
  {
   "cell_type": "code",
   "execution_count": 16,
   "metadata": {},
   "outputs": [
    {
     "name": "stdout",
     "output_type": "stream",
     "text": [
      "*********  Forward Hooks Inputs & Outputs  *********\n",
      "(tensor([0.0500, 0.1000]),)\n",
      "tensor([0.3775, 0.3925], grad_fn=<AddBackward0>)\n",
      "---------------------------------------------------\n",
      "(tensor([0.3775, 0.3925], grad_fn=<AddBackward0>),)\n",
      "tensor([0.5933, 0.5969], grad_fn=<SigmoidBackward>)\n",
      "---------------------------------------------------\n",
      "(tensor([0.5933, 0.5969], grad_fn=<SigmoidBackward>),)\n",
      "tensor([1.1059, 1.2249], grad_fn=<AddBackward0>)\n",
      "---------------------------------------------------\n",
      "(tensor([1.1059, 1.2249], grad_fn=<AddBackward0>),)\n",
      "tensor([0.7514, 0.7729], grad_fn=<SigmoidBackward>)\n",
      "---------------------------------------------------\n",
      "\n",
      "\n",
      "*********  Backward Hooks Inputs & Outputs  *********\n",
      "(tensor([0.0392, 0.0435]), tensor([0.0827]))\n",
      "(tensor([0.0392, 0.0435]),)\n",
      "---------------------------------------------------\n",
      "(tensor([0.0392, 0.0435]),)\n",
      "(tensor([0.1625, 0.1806]),)\n",
      "---------------------------------------------------\n",
      "(tensor([0.1868, 0.1755]), tensor([0.3623]))\n",
      "(tensor([0.1868, 0.1755]),)\n",
      "---------------------------------------------------\n",
      "(tensor([0.1868, 0.1755]),)\n",
      "(tensor([1., 1.]),)\n",
      "---------------------------------------------------\n"
     ]
    }
   ],
   "source": [
    "print('***'*3+'  Forward Hooks Inputs & Outputs  '+'***'*3)\n",
    "for hook in hookF:\n",
    "    print(hook.input)\n",
    "    print(hook.output)\n",
    "    print('---'*17)\n",
    "print('\\n')\n",
    "print('***'*3+'  Backward Hooks Inputs & Outputs  '+'***'*3)\n",
    "for hook in hookB:             \n",
    "    print(hook.input)          \n",
    "    print(hook.output)         \n",
    "    print('---'*17)"
   ]
  },
  {
   "cell_type": "markdown",
   "metadata": {},
   "source": [
    "#### Forward calculations"
   ]
  },
  {
   "cell_type": "code",
   "execution_count": 17,
   "metadata": {},
   "outputs": [
    {
     "data": {
      "text/plain": [
       "tensor([0.3775, 0.3925], grad_fn=<AddBackward0>)"
      ]
     },
     "execution_count": 17,
     "metadata": {},
     "output_type": "execute_result"
    }
   ],
   "source": [
    "torch.matmul(weight1, data) + 0.35"
   ]
  },
  {
   "cell_type": "code",
   "execution_count": 18,
   "metadata": {},
   "outputs": [
    {
     "data": {
      "text/plain": [
       "(torch.Size([2, 2]), torch.Size([2]))"
      ]
     },
     "execution_count": 18,
     "metadata": {},
     "output_type": "execute_result"
    }
   ],
   "source": [
    "weight1.shape, data.shape"
   ]
  },
  {
   "cell_type": "code",
   "execution_count": 19,
   "metadata": {},
   "outputs": [
    {
     "data": {
      "text/plain": [
       "tensor([0.5933, 0.5969])"
      ]
     },
     "execution_count": 19,
     "metadata": {},
     "output_type": "execute_result"
    }
   ],
   "source": [
    "nn.Sigmoid()(tensor([0.3775, 0.3925]))"
   ]
  },
  {
   "cell_type": "code",
   "execution_count": 20,
   "metadata": {},
   "outputs": [
    {
     "data": {
      "text/plain": [
       "tensor([0.5933, 0.5969])"
      ]
     },
     "execution_count": 20,
     "metadata": {},
     "output_type": "execute_result"
    }
   ],
   "source": [
    "tensor([1/(1+np.exp(-x)) for x in [0.3775, 0.3925]])"
   ]
  },
  {
   "cell_type": "code",
   "execution_count": 21,
   "metadata": {},
   "outputs": [
    {
     "data": {
      "text/plain": [
       "tensor([1.1059, 1.2249], grad_fn=<AddBackward0>)"
      ]
     },
     "execution_count": 21,
     "metadata": {},
     "output_type": "execute_result"
    }
   ],
   "source": [
    "torch.matmul(weight2, tensor([0.5933, 0.5969])) + 0.6"
   ]
  },
  {
   "cell_type": "code",
   "execution_count": 22,
   "metadata": {},
   "outputs": [
    {
     "data": {
      "text/plain": [
       "tensor([0.7514, 0.7729])"
      ]
     },
     "execution_count": 22,
     "metadata": {},
     "output_type": "execute_result"
    }
   ],
   "source": [
    "tensor([1/(1+np.exp(-x)) for x in [1.1059, 1.2249]])"
   ]
  },
  {
   "cell_type": "markdown",
   "metadata": {},
   "source": [
    "#### Backward calculations"
   ]
  },
  {
   "cell_type": "code",
   "execution_count": 23,
   "metadata": {},
   "outputs": [
    {
     "data": {
      "text/plain": [
       "array([0.18679804, 0.17552559])"
      ]
     },
     "execution_count": 23,
     "metadata": {},
     "output_type": "execute_result"
    }
   ],
   "source": [
    "# Confirm the calculations with the print result above\n",
    "# the 4th layer - sigmoid\n",
    "forward_output = np.array([0.7514, 0.7729]) \n",
    "grad_in = np.array([1,1])  # sigmoid layer\n",
    "# grad of sigmoid(x) wrt x is: sigmoid(x)(1-sigmoid(x))\n",
    "grad_out = grad_in*(forward_output*(1-forward_output)); grad_out "
   ]
  },
  {
   "cell_type": "code",
   "execution_count": 24,
   "metadata": {},
   "outputs": [
    {
     "name": "stdout",
     "output_type": "stream",
     "text": [
      "[0.1868, 0.1755]\n",
      "0.36229999999999996\n"
     ]
    },
    {
     "data": {
      "text/plain": [
       "tensor([[0.1625, 0.1806]], grad_fn=<MmBackward>)"
      ]
     },
     "execution_count": 24,
     "metadata": {},
     "output_type": "execute_result"
    }
   ],
   "source": [
    "# the 3th layer - linear\n",
    "print([0.1868, 0.1755])  # grad_input * (grad of Wx+b = (w1*x1+w2*x2)+b wrt W) \n",
    "print(0.1868 + 0.1755)   # grad of Wx+b wrt b o\n",
    "\n",
    "grad_in = torch.Tensor(grad_out)\n",
    "grad_out = grad_in.view(1,-1) @ weight2;grad_out"
   ]
  },
  {
   "cell_type": "code",
   "execution_count": 25,
   "metadata": {},
   "outputs": [],
   "source": [
    "class Guided_backprop():\n",
    "    \"\"\"\n",
    "        Visualize CNN activation maps with guided backprop.\n",
    "        \n",
    "        Returns: An image that represent what the network learnt for recognizing \n",
    "        the given image. \n",
    "        \n",
    "        Methods: First layer input that minimize the error between the last layers output,\n",
    "        for the given class, and the true label(=1). \n",
    "        \n",
    "        ! Call visualize(image) to get the image representation\n",
    "    \"\"\"\n",
    "    def __init__(self,model):\n",
    "        self.model = model\n",
    "        self.image_reconstruction = None\n",
    "        self.activation_maps = []\n",
    "        # eval mode\n",
    "        self.model.eval()\n",
    "        self.register_hooks()\n",
    "    \n",
    "    def register_hooks(self):\n",
    "        \n",
    "        def first_layer_hook_fn(module, grad_out, grad_in):\n",
    "            \"\"\" Return reconstructed activation image\"\"\"\n",
    "            self.image_reconstruction = grad_out[0] \n",
    "            \n",
    "        def forward_hook_fn(module, input, output):\n",
    "            \"\"\" Stores the forward pass outputs (activation maps)\"\"\"\n",
    "            self.activation_maps.append(output)\n",
    "            \n",
    "        def backward_hook_fn(module, grad_out, grad_in):\n",
    "            \"\"\" Output the grad of model output wrt. layer (only positive) \"\"\"\n",
    "            \n",
    "            # Gradient of forward_output wrt. forward_input = error of activation map:\n",
    "                # for relu layer: grad of zero = 0, grad of identity = 1\n",
    "            grad = self.activation_maps[-1] # corresponding forward pass output \n",
    "            grad[grad>0] = 1 # grad of relu when > 0\n",
    "            \n",
    "            # set negative output gradient to 0 #!???\n",
    "            positive_grad_out = torch.clamp(input=grad_out[0],min=0.0)\n",
    "            \n",
    "            # backward grad_out = grad_out * (grad of forward output wrt. forward input)\n",
    "            new_grad_out = positive_grad_out * grad\n",
    "            \n",
    "            del self.forward_outputs[-1] \n",
    "            \n",
    "            # For hook functions, the returned value will be the new grad_out\n",
    "            return (new_grad_out,)\n",
    "            \n",
    "        # !!!!!!!!!!!!!!!! change the modules !!!!!!!!!!!!!!!!!!\n",
    "        # only conv layers, no flattened fc linear layers\n",
    "        modules = list(self.model._modules.items())\n",
    "        \n",
    "        # register hooks to relu layers\n",
    "        for name, module in modules:\n",
    "            if isinstance(module, nn.ReLU):\n",
    "                module.register_forward_hook(forward_hook_fn)\n",
    "                module.register_backward_hook(backward_hook_fn)\n",
    "        \n",
    "        # register hook to the first layer \n",
    "        first_layer = modules[0][1] \n",
    "        first_layer.register_backward_hook(first_layer_hook_fn)\n",
    "        \n",
    "    def visualize(self, input_image, target_class):\n",
    "        # last layer output\n",
    "        model_output = self.model(input_image)\n",
    "        self.model.zero_grad()\n",
    "        \n",
    "        # only calculate gradients wrt. target class \n",
    "        # set the other classes to 0: eg. [0,0,1]\n",
    "        grad_target_map = torch.zeros(model_output.shape,\n",
    "                                     dtype=torch.float)\n",
    "        grad_target_map[0][target_class] = 1\n",
    "        \n",
    "        model_output.backward(grad_target_map)\n",
    "        \n",
    "        # Convert Pytorch variable to numpy array\n",
    "        # [0] to get rid of the first channel (1,3,224,224)\n",
    "        result = self.image_reconstruction.data.numpy()[0] \n",
    "        return result"
   ]
  },
  {
   "cell_type": "code",
   "execution_count": null,
   "metadata": {},
   "outputs": [],
   "source": []
  },
  {
   "cell_type": "code",
   "execution_count": null,
   "metadata": {},
   "outputs": [],
   "source": []
  },
  {
   "cell_type": "code",
   "execution_count": null,
   "metadata": {},
   "outputs": [],
   "source": []
  },
  {
   "cell_type": "code",
   "execution_count": 26,
   "metadata": {},
   "outputs": [],
   "source": [
    "activations = {}\n",
    "def get_activation(name):\n",
    "    def hook(model, input, output):\n",
    "        activations[name] = output.detach()\n",
    "    return hook\n",
    "\n",
    "model = nn.Sequential(\n",
    "    nn.Linear(10, 25),\n",
    "    nn.ReLU(),\n",
    "    nn.Linear(25, 2)\n",
    ")"
   ]
  },
  {
   "cell_type": "code",
   "execution_count": 27,
   "metadata": {},
   "outputs": [
    {
     "data": {
      "text/plain": [
       "<bound method Module.parameters of Sequential(\n",
       "  (0): Linear(in_features=10, out_features=25, bias=True)\n",
       "  (1): ReLU()\n",
       "  (2): Linear(in_features=25, out_features=2, bias=True)\n",
       ")>"
      ]
     },
     "execution_count": 27,
     "metadata": {},
     "output_type": "execute_result"
    }
   ],
   "source": [
    "model.parameters"
   ]
  },
  {
   "cell_type": "code",
   "execution_count": 28,
   "metadata": {},
   "outputs": [
    {
     "data": {
      "text/plain": [
       "array([[ 0.05605903,  0.21413276,  0.03864008,  0.27759585, -0.0218803 ,\n",
       "        -0.27770042, -0.12772922,  0.21790203,  0.27921847,  0.17068928],\n",
       "       [ 0.2353166 , -0.30308807,  0.00965044, -0.05414191,  0.26118025,\n",
       "         0.22667179,  0.15487832,  0.07039323, -0.24430089, -0.13256349],\n",
       "       [ 0.02279872,  0.17414159, -0.01550066,  0.16892502, -0.27508423,\n",
       "         0.09690019,  0.09893283,  0.28091332, -0.30712515,  0.2810661 ],\n",
       "       [ 0.28747836, -0.18949239, -0.09113134,  0.09072161, -0.24991967,\n",
       "        -0.07525887,  0.3030893 , -0.2875347 ,  0.1885108 ,  0.06511906],\n",
       "       [ 0.20232043,  0.31575915, -0.11479175,  0.30545577, -0.02487636,\n",
       "         0.2835237 , -0.22868106, -0.10547651,  0.24900278, -0.2795855 ],\n",
       "       [-0.02803028, -0.20272726,  0.12217557, -0.26757693, -0.28732404,\n",
       "        -0.21200514,  0.29561362, -0.23897329, -0.02601784, -0.00986987],\n",
       "       [ 0.1934112 , -0.15400054, -0.28188467,  0.2531747 ,  0.10334834,\n",
       "        -0.31269288, -0.23567474, -0.15413313,  0.3076351 , -0.25574356],\n",
       "       [-0.26959115, -0.03417772, -0.1363324 ,  0.06835395, -0.27086645,\n",
       "         0.19822744, -0.17905657, -0.27792692,  0.29456785, -0.21019487],\n",
       "       [-0.29842952,  0.09740141, -0.19387828,  0.21193275, -0.25891656,\n",
       "        -0.218301  ,  0.22334781, -0.10043915, -0.2601498 ,  0.29397944],\n",
       "       [ 0.04476213, -0.15853503,  0.10795918, -0.20650533, -0.01439741,\n",
       "        -0.3041819 ,  0.30109772, -0.03861627, -0.15485623, -0.1406859 ],\n",
       "       [ 0.10028592, -0.1595647 , -0.27374348,  0.19282714,  0.1787957 ,\n",
       "        -0.2015878 , -0.00922793, -0.2509725 , -0.18139979, -0.15763588],\n",
       "       [ 0.01963291,  0.30608055, -0.01435331, -0.16049933, -0.07507418,\n",
       "        -0.21456158, -0.129884  , -0.19639276,  0.28349534,  0.26569673],\n",
       "       [ 0.10084888, -0.19310293,  0.31607285, -0.02033758, -0.02614465,\n",
       "        -0.08353323, -0.11224078, -0.03438985, -0.29171255, -0.29487672],\n",
       "       [ 0.1320689 ,  0.02831146, -0.03688505, -0.20497742,  0.20690688,\n",
       "        -0.06125131, -0.21573874,  0.25229308, -0.2617531 , -0.0090993 ],\n",
       "       [-0.12260847, -0.29834062, -0.02754608,  0.1575051 , -0.06475699,\n",
       "         0.23757204, -0.22474244, -0.15090525, -0.0062421 , -0.10188837],\n",
       "       [-0.2791333 , -0.19023718,  0.31355736,  0.05308554,  0.14258939,\n",
       "         0.17090094,  0.07698923,  0.02524364, -0.06300616, -0.08968543],\n",
       "       [-0.09310578,  0.16493827,  0.31219742,  0.23407075,  0.01180404,\n",
       "        -0.22457126, -0.11808962,  0.09455764,  0.06570846, -0.03001511],\n",
       "       [ 0.16149688, -0.08367302,  0.12902108, -0.21932104, -0.17646058,\n",
       "        -0.02562016, -0.19369228,  0.24195406, -0.24677584,  0.22289261],\n",
       "       [ 0.22056714,  0.30690297, -0.2802198 , -0.06641044,  0.30811474,\n",
       "         0.06707707, -0.23116142, -0.14057127, -0.10388449, -0.03095946],\n",
       "       [ 0.10022938,  0.00197667,  0.24589303, -0.15202309, -0.12245421,\n",
       "         0.22889873, -0.272007  , -0.3030747 , -0.2559362 , -0.14286989],\n",
       "       [ 0.15260658,  0.30813602, -0.08063009,  0.09835276,  0.29645917,\n",
       "         0.00393146,  0.12750244,  0.19675055,  0.02576873,  0.27639243],\n",
       "       [-0.25988966,  0.30884668,  0.02768862, -0.00584871, -0.09704612,\n",
       "         0.307422  , -0.19155568,  0.16564289, -0.23501971,  0.18334031],\n",
       "       [-0.2719653 ,  0.28366753, -0.17787296, -0.12914532,  0.22959545,\n",
       "        -0.24711978, -0.18595122, -0.04884946,  0.09569144,  0.3115801 ],\n",
       "       [ 0.04416883,  0.27200803, -0.12624732,  0.28420255, -0.19827488,\n",
       "         0.04230776,  0.26440778,  0.23877326,  0.27345827,  0.3007624 ],\n",
       "       [ 0.13857108, -0.10870209, -0.27605018, -0.15967599, -0.02638674,\n",
       "        -0.01053631, -0.20643431, -0.0764363 , -0.15669677, -0.2033962 ]],\n",
       "      dtype=float32)"
      ]
     },
     "execution_count": 28,
     "metadata": {},
     "output_type": "execute_result"
    }
   ],
   "source": [
    "weights = model[0].weight.data.numpy()\n",
    "weights"
   ]
  },
  {
   "cell_type": "code",
   "execution_count": 29,
   "metadata": {},
   "outputs": [
    {
     "data": {
      "text/plain": [
       "<torch.utils.hooks.RemovableHandle at 0x121cdc0b8>"
      ]
     },
     "execution_count": 29,
     "metadata": {},
     "output_type": "execute_result"
    }
   ],
   "source": [
    "model[0].register_forward_hook(get_activation('layer0'))"
   ]
  },
  {
   "cell_type": "code",
   "execution_count": 30,
   "metadata": {},
   "outputs": [],
   "source": [
    "x = torch.randn(1, 10)\n",
    "output = model(x)"
   ]
  },
  {
   "cell_type": "code",
   "execution_count": 31,
   "metadata": {},
   "outputs": [
    {
     "data": {
      "text/plain": [
       "tensor([[-0.2664,  0.1553]], grad_fn=<AddmmBackward>)"
      ]
     },
     "execution_count": 31,
     "metadata": {},
     "output_type": "execute_result"
    }
   ],
   "source": [
    "output"
   ]
  },
  {
   "cell_type": "code",
   "execution_count": 32,
   "metadata": {},
   "outputs": [
    {
     "name": "stdout",
     "output_type": "stream",
     "text": [
      "torch.Size([1, 25])\n"
     ]
    },
    {
     "data": {
      "text/plain": [
       "{'layer0': tensor([[ 0.4767, -0.4778,  0.9047,  0.3566,  0.8153,  0.3330, -1.0060,  0.2747,\n",
       "          -0.8791, -0.2744, -1.6638,  0.2836, -0.2930, -0.4283, -0.4425, -0.2168,\n",
       "           0.1127,  0.5815, -0.3185,  0.7084, -0.2239,  0.5016, -0.6931,  0.9401,\n",
       "          -0.5919]])}"
      ]
     },
     "execution_count": 32,
     "metadata": {},
     "output_type": "execute_result"
    }
   ],
   "source": [
    "print(activations['layer0'].shape)\n",
    "activations"
   ]
  },
  {
   "cell_type": "code",
   "execution_count": 34,
   "metadata": {},
   "outputs": [
    {
     "data": {
      "image/png": "[encoded data removed]",
      "text/plain": [
       "<Figure size 1152x144 with 1 Axes>"
      ]
     },
     "metadata": {
      "needs_background": "light"
     },
     "output_type": "display_data"
    },
    {
     "data": {
      "image/png": "[encoded data removed]",
      "text/plain": [
       "<Figure size 288x720 with 1 Axes>"
      ]
     },
     "metadata": {
      "needs_background": "light"
     },
     "output_type": "display_data"
    }
   ],
   "source": [
    "from matplotlib import pyplot as plt\n",
    "plt.matshow(activations['layer0'])\n",
    "plt.matshow(weights)\n",
    "plt.show()"
   ]
  },
  {
   "cell_type": "code",
   "execution_count": 35,
   "metadata": {},
   "outputs": [
    {
     "data": {
      "text/plain": [
       "odict_items([('0', Linear(in_features=10, out_features=25, bias=True)), ('1', ReLU()), ('2', Linear(in_features=25, out_features=2, bias=True))])"
      ]
     },
     "execution_count": 35,
     "metadata": {},
     "output_type": "execute_result"
    }
   ],
   "source": [
    "model._modules.items()"
   ]
  },
  {
   "cell_type": "code",
   "execution_count": 69,
   "metadata": {},
   "outputs": [],
   "source": [
    "import torch.nn as nn\n",
    "\n",
    "\n",
    "model = nn.Sequential(\n",
    "    nn.Linear(10, 25),\n",
    "    nn.ReLU(),\n",
    "    nn.Linear(25, 2)\n",
    ")\n",
    "\n",
    "\n",
    "visualisation = {}\n",
    "\n",
    "def hook_fn(m, i, o):\n",
    "    visualisation[str(m)] = o.detach().numpy()\n",
    "\n",
    "def get_all_layers(model):\n",
    "    for name, layer in model._modules.items():\n",
    "        layer.register_forward_hook(hook_fn)"
   ]
  },
  {
   "cell_type": "code",
   "execution_count": 70,
   "metadata": {},
   "outputs": [],
   "source": [
    "for param in model.parameters():\n",
    "    param.requires_grad = False"
   ]
  },
  {
   "cell_type": "code",
   "execution_count": 71,
   "metadata": {},
   "outputs": [
    {
     "data": {
      "text/plain": [
       "Sequential(\n",
       "  (0): Linear(in_features=10, out_features=25, bias=True)\n",
       "  (1): ReLU()\n",
       "  (2): Linear(in_features=25, out_features=2, bias=True)\n",
       ")"
      ]
     },
     "execution_count": 71,
     "metadata": {},
     "output_type": "execute_result"
    }
   ],
   "source": [
    "model.eval()"
   ]
  },
  {
   "cell_type": "code",
   "execution_count": 72,
   "metadata": {},
   "outputs": [],
   "source": [
    "get_all_layers(model)"
   ]
  },
  {
   "cell_type": "code",
   "execution_count": 73,
   "metadata": {},
   "outputs": [
    {
     "data": {
      "text/plain": [
       "{}"
      ]
     },
     "execution_count": 73,
     "metadata": {},
     "output_type": "execute_result"
    }
   ],
   "source": [
    "visualisation"
   ]
  },
  {
   "cell_type": "code",
   "execution_count": 74,
   "metadata": {},
   "outputs": [],
   "source": [
    "out = model(torch.randn(1, 10))"
   ]
  },
  {
   "cell_type": "code",
   "execution_count": 75,
   "metadata": {},
   "outputs": [
    {
     "data": {
      "text/plain": [
       "{'Linear(in_features=10, out_features=25, bias=True)': array([[ 0.00316985, -0.08310953,  0.54357266,  0.7405807 , -0.16417319,\n",
       "          0.385947  ,  0.8438901 ,  0.38129696,  0.46040848, -0.11029162,\n",
       "          0.0388878 , -0.04883998, -0.11077804, -0.1817394 , -0.14541033,\n",
       "         -0.23613755,  0.32240853, -0.2988292 , -0.11823373,  0.2651435 ,\n",
       "         -0.7618786 ,  0.5321647 ,  0.12714799,  0.5923781 ,  0.55662835]],\n",
       "       dtype=float32),\n",
       " 'ReLU()': array([[0.00316985, 0.        , 0.54357266, 0.7405807 , 0.        ,\n",
       "         0.385947  , 0.8438901 , 0.38129696, 0.46040848, 0.        ,\n",
       "         0.0388878 , 0.        , 0.        , 0.        , 0.        ,\n",
       "         0.        , 0.32240853, 0.        , 0.        , 0.2651435 ,\n",
       "         0.        , 0.5321647 , 0.12714799, 0.5923781 , 0.55662835]],\n",
       "       dtype=float32),\n",
       " 'Linear(in_features=25, out_features=2, bias=True)': array([[-0.6169652 ,  0.28780353]], dtype=float32)}"
      ]
     },
     "execution_count": 75,
     "metadata": {},
     "output_type": "execute_result"
    }
   ],
   "source": [
    "visualisation"
   ]
  },
  {
   "cell_type": "code",
   "execution_count": 76,
   "metadata": {},
   "outputs": [
    {
     "name": "stdout",
     "output_type": "stream",
     "text": [
      "(25,)\n"
     ]
    },
    {
     "data": {
      "image/png": "[encoded data removed]",
      "text/plain": [
       "<Figure size 432x288 with 1 Axes>"
      ]
     },
     "metadata": {
      "needs_background": "light"
     },
     "output_type": "display_data"
    }
   ],
   "source": [
    "out1 = visualisation['Linear(in_features=10, out_features=25, bias=True)']\n",
    "out1 = out1.reshape(-1)\n",
    "print(out1.shape)\n",
    "plt.hist(out1)\n",
    "plt.show()"
   ]
  },
  {
   "cell_type": "code",
   "execution_count": null,
   "metadata": {},
   "outputs": [],
   "source": []
  }
 ],
 "metadata": {
  "kernelspec": {
   "display_name": "Python 3",
   "language": "python",
   "name": "python3"
  },
  "language_info": {
   "codemirror_mode": {
    "name": "ipython",
    "version": 3
   },
   "file_extension": ".py",
   "mimetype": "text/x-python",
   "name": "python",
   "nbconvert_exporter": "python",
   "pygments_lexer": "ipython3",
   "version": "3.6.5"
  }
 },
 "nbformat": 4,
 "nbformat_minor": 2
}
