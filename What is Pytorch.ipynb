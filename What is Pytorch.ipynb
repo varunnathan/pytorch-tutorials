{
 "cells": [
  {
   "cell_type": "markdown",
   "metadata": {},
   "source": [
    "Link: https://pytorch.org/tutorials/beginner/blitz/tensor_tutorial.html#sphx-glr-beginner-blitz-tensor-tutorial-py"
   ]
  },
  {
   "cell_type": "markdown",
   "metadata": {},
   "source": [
    "### Target Audience\n",
    "1. Replacement for numpy to run on GPU/TPU\n",
    "2. Deep learning research platform with max flexiblity and speed"
   ]
  },
  {
   "cell_type": "code",
   "execution_count": 1,
   "metadata": {},
   "outputs": [],
   "source": [
    "from __future__ import print_function\n",
    "import torch"
   ]
  },
  {
   "cell_type": "code",
   "execution_count": 5,
   "metadata": {},
   "outputs": [
    {
     "name": "stdout",
     "output_type": "stream",
     "text": [
      "tensor([[ 0.0000e+00,  0.0000e+00,  0.0000e+00],\n",
      "        [ 0.0000e+00,  0.0000e+00,  0.0000e+00],\n",
      "        [ 0.0000e+00,  0.0000e+00,  0.0000e+00],\n",
      "        [ 0.0000e+00,  0.0000e+00,  0.0000e+00],\n",
      "        [ 0.0000e+00,  0.0000e+00, -1.6298e-21]])\n"
     ]
    }
   ],
   "source": [
    "# Uninitialized matrix\n",
    "x = torch.empty(5, 3)\n",
    "print(x)"
   ]
  },
  {
   "cell_type": "code",
   "execution_count": 8,
   "metadata": {},
   "outputs": [
    {
     "name": "stdout",
     "output_type": "stream",
     "text": [
      "tensor([[0.2152, 0.4845, 0.4883],\n",
      "        [0.0460, 0.7623, 0.0032],\n",
      "        [0.5740, 0.3669, 0.0483],\n",
      "        [0.8959, 0.4367, 0.1130],\n",
      "        [0.1298, 0.1221, 0.5286]])\n"
     ]
    }
   ],
   "source": [
    "# Randomly initialized matrix\n",
    "x = torch.rand(5, 3)\n",
    "print(x)"
   ]
  },
  {
   "cell_type": "code",
   "execution_count": 10,
   "metadata": {},
   "outputs": [
    {
     "name": "stdout",
     "output_type": "stream",
     "text": [
      "tensor([[0, 0, 0],\n",
      "        [0, 0, 0],\n",
      "        [0, 0, 0],\n",
      "        [0, 0, 0],\n",
      "        [0, 0, 0]])\n"
     ]
    }
   ],
   "source": [
    "# Construct a matrix filled zeros and of dtype long\n",
    "x = torch.zeros(5, 3, dtype=torch.long)\n",
    "print(x)"
   ]
  },
  {
   "cell_type": "code",
   "execution_count": 12,
   "metadata": {},
   "outputs": [
    {
     "name": "stdout",
     "output_type": "stream",
     "text": [
      "torch.int64\n"
     ]
    }
   ],
   "source": [
    "print(x.dtype)"
   ]
  },
  {
   "cell_type": "code",
   "execution_count": 14,
   "metadata": {},
   "outputs": [
    {
     "name": "stdout",
     "output_type": "stream",
     "text": [
      "tensor([10.,  2.])\n"
     ]
    }
   ],
   "source": [
    "# Construct a tensor directly from data\n",
    "x = torch.tensor([10.0, 2])\n",
    "print(x)"
   ]
  },
  {
   "cell_type": "code",
   "execution_count": 15,
   "metadata": {},
   "outputs": [
    {
     "name": "stdout",
     "output_type": "stream",
     "text": [
      "tensor([[1., 1., 1.],\n",
      "        [1., 1., 1.],\n",
      "        [1., 1., 1.],\n",
      "        [1., 1., 1.],\n",
      "        [1., 1., 1.]], dtype=torch.float64)\n"
     ]
    }
   ],
   "source": [
    "# create a tensor based on an existing tensor\n",
    "x = x.new_ones(5, 3, dtype=torch.double)\n",
    "print(x)"
   ]
  },
  {
   "cell_type": "code",
   "execution_count": 16,
   "metadata": {},
   "outputs": [
    {
     "name": "stdout",
     "output_type": "stream",
     "text": [
      "tensor([[ 0.2649,  0.0701,  1.5310],\n",
      "        [ 1.0188,  1.4566, -1.2946],\n",
      "        [ 0.4400,  1.1951,  0.2559],\n",
      "        [ 1.9596,  1.1482, -0.2365],\n",
      "        [ 1.5692, -0.7186, -1.0203]])\n"
     ]
    }
   ],
   "source": [
    "x = torch.randn_like(x, dtype=torch.float)\n",
    "print(x)"
   ]
  },
  {
   "cell_type": "code",
   "execution_count": 17,
   "metadata": {},
   "outputs": [
    {
     "name": "stdout",
     "output_type": "stream",
     "text": [
      "torch.Size([5, 3])\n"
     ]
    }
   ],
   "source": [
    "print(x.size())"
   ]
  },
  {
   "cell_type": "markdown",
   "metadata": {},
   "source": [
    "### Addition Operation"
   ]
  },
  {
   "cell_type": "code",
   "execution_count": 21,
   "metadata": {},
   "outputs": [
    {
     "name": "stdout",
     "output_type": "stream",
     "text": [
      "tensor([[ 0.2649,  0.0701,  1.5310],\n",
      "        [ 1.0188,  1.4566, -1.2946],\n",
      "        [ 0.4400,  1.1951,  0.2559],\n",
      "        [ 1.9596,  1.1482, -0.2365],\n",
      "        [ 1.5692, -0.7186, -1.0203]])\n",
      "tensor([[0.7731, 0.3757, 0.4499],\n",
      "        [0.5690, 0.6445, 0.5047],\n",
      "        [0.2652, 0.5573, 0.7042],\n",
      "        [0.4629, 0.1877, 0.5903],\n",
      "        [0.1330, 0.6673, 0.4337]])\n",
      "tensor([[ 1.0380,  0.4458,  1.9809],\n",
      "        [ 1.5878,  2.1012, -0.7899],\n",
      "        [ 0.7052,  1.7524,  0.9601],\n",
      "        [ 2.4225,  1.3359,  0.3538],\n",
      "        [ 1.7022, -0.0512, -0.5866]])\n",
      "tensor([[ 1.0380,  0.4458,  1.9809],\n",
      "        [ 1.5878,  2.1012, -0.7899],\n",
      "        [ 0.7052,  1.7524,  0.9601],\n",
      "        [ 2.4225,  1.3359,  0.3538],\n",
      "        [ 1.7022, -0.0512, -0.5866]])\n"
     ]
    }
   ],
   "source": [
    "y = torch.rand(5, 3)\n",
    "print(x)\n",
    "print(y)\n",
    "print(x+y)\n",
    "print(torch.add(x, y))"
   ]
  },
  {
   "cell_type": "code",
   "execution_count": 22,
   "metadata": {},
   "outputs": [
    {
     "name": "stdout",
     "output_type": "stream",
     "text": [
      "tensor([[ 1.0380,  0.4458,  1.9809],\n",
      "        [ 1.5878,  2.1012, -0.7899],\n",
      "        [ 0.7052,  1.7524,  0.9601],\n",
      "        [ 2.4225,  1.3359,  0.3538],\n",
      "        [ 1.7022, -0.0512, -0.5866]])\n"
     ]
    }
   ],
   "source": [
    "result = torch.empty(5, 3)\n",
    "torch.add(x, y, out=result)\n",
    "print(result)"
   ]
  },
  {
   "cell_type": "code",
   "execution_count": 23,
   "metadata": {},
   "outputs": [
    {
     "name": "stdout",
     "output_type": "stream",
     "text": [
      "tensor([[ 1.0380,  0.4458,  1.9809],\n",
      "        [ 1.5878,  2.1012, -0.7899],\n",
      "        [ 0.7052,  1.7524,  0.9601],\n",
      "        [ 2.4225,  1.3359,  0.3538],\n",
      "        [ 1.7022, -0.0512, -0.5866]])\n"
     ]
    }
   ],
   "source": [
    "# addition in place\n",
    "y.add_(x)\n",
    "print(y)"
   ]
  },
  {
   "cell_type": "code",
   "execution_count": 25,
   "metadata": {},
   "outputs": [
    {
     "name": "stdout",
     "output_type": "stream",
     "text": [
      "tensor([[ 0.2649,  0.0701,  1.5310],\n",
      "        [ 1.0188,  1.4566, -1.2946],\n",
      "        [ 0.4400,  1.1951,  0.2559],\n",
      "        [ 1.9596,  1.1482, -0.2365],\n",
      "        [ 1.5692, -0.7186, -1.0203]])\n",
      "tensor([ 0.0701,  1.4566,  1.1951,  1.1482, -0.7186])\n",
      "tensor([ 1.0188,  1.4566, -1.2946])\n",
      "tensor([[ 1.0188,  1.4566, -1.2946],\n",
      "        [ 0.4400,  1.1951,  0.2559]])\n"
     ]
    }
   ],
   "source": [
    "print(x)\n",
    "print(x[:,1])\n",
    "print(x[1, :])\n",
    "print(x[1:3, :])"
   ]
  },
  {
   "cell_type": "code",
   "execution_count": 26,
   "metadata": {},
   "outputs": [
    {
     "name": "stdout",
     "output_type": "stream",
     "text": [
      "tensor([[ 0.0323,  1.1845,  0.2345, -0.0448],\n",
      "        [-1.4087,  0.8822,  0.8151,  0.8925],\n",
      "        [ 0.0324, -0.0323,  1.1017,  1.4822],\n",
      "        [-0.2746, -2.0895,  0.0588,  1.4040]])\n"
     ]
    }
   ],
   "source": [
    "# Resizing\n",
    "x = torch.randn(4, 4)\n",
    "print(x)"
   ]
  },
  {
   "cell_type": "code",
   "execution_count": 27,
   "metadata": {},
   "outputs": [
    {
     "name": "stdout",
     "output_type": "stream",
     "text": [
      "tensor([ 0.0323,  1.1845,  0.2345, -0.0448, -1.4087,  0.8822,  0.8151,  0.8925,\n",
      "         0.0324, -0.0323,  1.1017,  1.4822, -0.2746, -2.0895,  0.0588,  1.4040])\n",
      "tensor([[ 0.0323,  1.1845,  0.2345, -0.0448, -1.4087,  0.8822,  0.8151,  0.8925],\n",
      "        [ 0.0324, -0.0323,  1.1017,  1.4822, -0.2746, -2.0895,  0.0588,  1.4040]])\n"
     ]
    }
   ],
   "source": [
    "y = x.view(16)\n",
    "z = x.view(-1, 8)\n",
    "print(y)\n",
    "print(z)"
   ]
  },
  {
   "cell_type": "code",
   "execution_count": 28,
   "metadata": {},
   "outputs": [
    {
     "name": "stdout",
     "output_type": "stream",
     "text": [
      "torch.Size([4, 4]) torch.Size([16]) torch.Size([2, 8])\n"
     ]
    }
   ],
   "source": [
    "print(x.size(), y.size(), z.size())"
   ]
  },
  {
   "cell_type": "code",
   "execution_count": 29,
   "metadata": {},
   "outputs": [
    {
     "name": "stdout",
     "output_type": "stream",
     "text": [
      "tensor([-1.1368])\n",
      "-1.1367782354354858\n"
     ]
    }
   ],
   "source": [
    "x = torch.randn(1)\n",
    "print(x)\n",
    "print(x.item())"
   ]
  },
  {
   "cell_type": "markdown",
   "metadata": {},
   "source": [
    "### Numpy Bridge"
   ]
  },
  {
   "cell_type": "code",
   "execution_count": 30,
   "metadata": {},
   "outputs": [
    {
     "name": "stdout",
     "output_type": "stream",
     "text": [
      "tensor([1., 1., 1., 1., 1.])\n"
     ]
    }
   ],
   "source": [
    "a = torch.ones(5)\n",
    "print(a)"
   ]
  },
  {
   "cell_type": "code",
   "execution_count": 31,
   "metadata": {},
   "outputs": [
    {
     "name": "stdout",
     "output_type": "stream",
     "text": [
      "tensor([1., 1., 1., 1., 1.])\n"
     ]
    }
   ],
   "source": [
    "b = a.numpy()\n",
    "print(a)"
   ]
  },
  {
   "cell_type": "code",
   "execution_count": 32,
   "metadata": {},
   "outputs": [
    {
     "name": "stdout",
     "output_type": "stream",
     "text": [
      "tensor([2., 2., 2., 2., 2.])\n",
      "[2. 2. 2. 2. 2.]\n"
     ]
    }
   ],
   "source": [
    "a.add_(1)\n",
    "print(a)\n",
    "print(b)"
   ]
  },
  {
   "cell_type": "code",
   "execution_count": 33,
   "metadata": {},
   "outputs": [
    {
     "name": "stdout",
     "output_type": "stream",
     "text": [
      "[2. 2. 2. 2. 2.]\n",
      "tensor([2., 2., 2., 2., 2.], dtype=torch.float64)\n"
     ]
    }
   ],
   "source": [
    "import numpy as np\n",
    "a = np.ones(5)\n",
    "b = torch.from_numpy(a)\n",
    "np.add(a, 1, out=a)\n",
    "print(a)\n",
    "print(b)"
   ]
  },
  {
   "cell_type": "code",
   "execution_count": 34,
   "metadata": {},
   "outputs": [],
   "source": [
    "if torch.cuda.is_available():\n",
    "    device = torch.device('cuda')\n",
    "    y = torch.ones_like(x, device=device)\n",
    "    x = x.to(device)\n",
    "    z = x+y\n",
    "    print(z)\n",
    "    print(z.to('cpu', dtype=torch.double))"
   ]
  },
  {
   "cell_type": "code",
   "execution_count": null,
   "metadata": {},
   "outputs": [],
   "source": []
  }
 ],
 "metadata": {
  "kernelspec": {
   "display_name": "Python 3",
   "language": "python",
   "name": "python3"
  },
  "language_info": {
   "codemirror_mode": {
    "name": "ipython",
    "version": 3
   },
   "file_extension": ".py",
   "mimetype": "text/x-python",
   "name": "python",
   "nbconvert_exporter": "python",
   "pygments_lexer": "ipython3",
   "version": "3.6.5"
  }
 },
 "nbformat": 4,
 "nbformat_minor": 2
}
